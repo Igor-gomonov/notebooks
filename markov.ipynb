{
  "nbformat": 4,
  "nbformat_minor": 0,
  "metadata": {
    "colab": {
      "name": "markov.ipynb",
      "provenance": [],
      "collapsed_sections": []
    },
    "kernelspec": {
      "name": "python3",
      "display_name": "Python 3"
    }
  },
  "cells": [
    {
      "cell_type": "code",
      "metadata": {
        "id": "f5z2-oqCBZ7x",
        "colab_type": "code",
        "outputId": "c7818fc3-60ec-41fe-bc5f-60fda970a2eb",
        "colab": {
          "base_uri": "https://localhost:8080/",
          "height": 419
        }
      },
      "source": [
        "from scipy.linalg import expm\n",
        "import numpy as np\n",
        "from matplotlib import pyplot\n",
        "\n",
        "# generator matrix\n",
        "Q = np.array([[-1/4, 1/4, 0, 0, 0],[ 1/5, -9/20, 1/4, 0, 0],[ 0, 1/5, -9/20, 1/4, 0],[ 0, 0, 1/5, -9/20, 1/4],[ 0, 0, 0, 1/5, -1/5]])\n",
        "\n",
        "\n",
        "t = 0       # initial time\n",
        "i=0\n",
        "N = 0    # initial amount of students\n",
        "total_t = 60   # total time\n",
        "step = .5   # time step\n",
        "alpha = 1/5   # parameter for exp. distribution to set rate 5 min\n",
        "beta = 4      # rate how students come\n",
        "n_ar = np.zeros(int(total_t/step))    # array of observations\n",
        "t_next = 0;\n",
        "t_done = 1e5    # just a trigger\n",
        "free = true\n",
        "\n",
        "for t in np.arange(0,total_t, step):\n",
        "    if t > t_next and N<4:\n",
        "      t_next = np.random.uniform(0,1)/beta    \n",
        "      N = N + 1\n",
        "\n",
        "      \n",
        "    # if registrer ended assistance  \n",
        "    if t >= t_done: \n",
        "      N = N - 1\n",
        "      t_done = 1e5\n",
        "      free = true\n",
        "    \n",
        "    if free and N>0:\n",
        "        t_done = np.random.exponential(alpha)+t\n",
        "        \n",
        "\n",
        "      \n",
        "    n_ar[i] = N    # array to plot\n",
        "    i=i+1\n",
        "      \n",
        "      \n",
        "pyplot.figure(1)\n",
        "pyplot.xlabel('time')\n",
        "pyplot.ylabel('N')\n",
        "pyplot.plot( n_ar )\n",
        "pyplot.show()\n",
        "#--------------2 task----------------------------\n",
        "\n",
        "\n",
        "# estimate at 2.5 time\n",
        "t = 2.5;\n",
        "P_t = expm(t*Q)  # transition function is matrix exponential from generator Q\n",
        "print('transition function at t=2.5')\n",
        "print(P_t)  \n",
        "\n",
        "#-------------3 task--------------------------\n",
        "# as it is seen, generator matrix is singular, so system of linear equations Q*p=0 can not\n",
        "# be solved with np.linalg.solve method\n",
        "# but it is clear from Q form, that any vector p=const*[1 1 1] is solution of this system\n",
        "# let's check it:\n",
        "p = np.ones(5)\n",
        "b = Q.dot(p)\n",
        "print('Q*p = ', b)  # p is solution of equation\n",
        "print('stationary distribution p = ', p) #p = [1 1 1] is stationary distribution"
      ],
      "execution_count": 0,
      "outputs": [
        {
          "output_type": "display_data",
          "data": {
            "image/png": "[encoded data removed]",
            "text/plain": [
              "<Figure size 432x288 with 1 Axes>"
            ]
          },
          "metadata": {
            "tags": []
          }
        },
        {
          "output_type": "stream",
          "text": [
            "transition function at t=2.5\n",
            "[[0.61003806 0.2899335  0.08130962 0.01600936 0.00270946]\n",
            " [0.2319468  0.44313895 0.2376933  0.0706697  0.01655125]\n",
            " [0.05203816 0.19015464 0.43462701 0.23812681 0.08505338]\n",
            " [0.00819679 0.0452286  0.19050145 0.44613396 0.30993919]\n",
            " [0.00110979 0.00847424 0.05443416 0.24795135 0.68803045]]\n",
            "Q*p =  [0. 0. 0. 0. 0.]\n",
            "stationary distribution p =  [1. 1. 1. 1. 1.]\n"
          ],
          "name": "stdout"
        }
      ]
    }
  ]
}